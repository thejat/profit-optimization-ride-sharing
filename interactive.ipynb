{
 "cells": [
  {
   "cell_type": "code",
   "execution_count": 3,
   "metadata": {
    "collapsed": false
   },
   "outputs": [
    {
     "name": "stdout",
     "output_type": "stream",
     "text": [
      "['19', '11', '3', '20', '29']\n",
      "total profit: 267930.81698\n",
      "{'unmatched_requests': [11], 'matched_request_pairs_with_permutations': {(19, 20): ('si', 'sj', 'dj', 'di'), (3, 29): ('sj', 'si', 'dj', 'di')}, 'non_ridesharing_requests': [0, 1, 2, 4, 5, 6, 7, 8, 9, 10, 12, 13, 14, 15, 16, 17, 18, 21, 22, 23, 24, 25, 26, 27, 28]}\n"
     ]
    }
   ],
   "source": [
    "from profit_maximization import *\n",
    "import pickle\n",
    "\n",
    "# random.seed(1000)  # for replicability of experiments.\n",
    "\n",
    "instance = generate_instance()\n",
    "# instance = pickle.load(open('instance4.pkl','rb'))\n",
    "experiment_params = get_experiment_params()\n",
    "solution = match_requests(instance,experiment_params)\n",
    "total_profit = \\\n",
    "    get_profit_from_non_ridesharing_requests(solution['non_ridesharing_requests'],instance) + \\\n",
    "    get_profit_from_unmatched_requests(solution['unmatched_requests'],instance) + \\\n",
    "    get_profit_from_matched_requests(solution['matched_request_pairs_with_permutations'],instance,experiment_params)\n",
    "    \n",
    "print \"total profit:\",total_profit\n",
    "print(solution)"
   ]
  },
  {
   "cell_type": "code",
   "execution_count": 6,
   "metadata": {
    "collapsed": false
   },
   "outputs": [
    {
     "data": {
      "text/plain": [
       "[3, 11, 19, 20, 29]"
      ]
     },
     "execution_count": 6,
     "metadata": {},
     "output_type": "execute_result"
    }
   ],
   "source": [
    "[x for x in instance['all_requests'] if ('RIDE_SHARING' in instance['all_requests'][x]) and instance['all_requests'][x]['RIDE_SHARING']==True]"
   ]
  },
  {
   "cell_type": "code",
   "execution_count": 5,
   "metadata": {
    "collapsed": false
   },
   "outputs": [
    {
     "name": "stderr",
     "output_type": "stream",
     "text": [
      "C:\\Users\\q4fj4lj9\\AppData\\Local\\Continuum\\Miniconda\\lib\\site-packages\\matplotlib\\collections.py:590: FutureWarning: elementwise comparison failed; returning scalar instead, but in the future will perform elementwise comparison\n",
      "  if self._edgecolors == str('face'):\n"
     ]
    }
   ],
   "source": [
    "import matplotlib.pyplot as plt\n",
    "\n",
    "data = {x:instance['all_requests'][x] for x in instance['all_requests'] if ('RIDE_SHARING' in instance['all_requests'][x]) and instance['all_requests'][x]['RIDE_SHARING']==True}\n",
    "\n",
    "N = len(data)\n",
    "labels = ['{0}'.format(i) for i in data]\n",
    "plt.subplots_adjust(bottom = 0.1)\n",
    "pd = {'orig':'green','dest':'red'}\n",
    "for loc in pd:\n",
    "    x = [data[z][loc][0] for z in data]\n",
    "    y = [data[z][loc][1] for z in data]\n",
    "\n",
    "#     plt.scatter(x, y, s=80, c=pd[loc], marker=\"o\")\n",
    "\n",
    "    plt.scatter(x, y, marker = 'o', \n",
    "        c = pd[loc], s = 1500,\n",
    "        cmap = plt.get_cmap('Spectral'))\n",
    "    for label, x, y in zip(labels, x, y):\n",
    "        plt.annotate(\n",
    "            label+','+loc, \n",
    "            xy = (x, y), xytext = (-20, 20),\n",
    "            textcoords = 'offset points', ha = 'right', va = 'bottom',\n",
    "            bbox = dict(boxstyle = 'round,pad=0.5', fc = 'yellow', alpha = 0.5),\n",
    "            arrowprops = dict(arrowstyle = '->', connectionstyle = 'arc3,rad=0'))\n",
    "\n",
    "plt.show()"
   ]
  },
  {
   "cell_type": "code",
   "execution_count": null,
   "metadata": {
    "collapsed": false
   },
   "outputs": [],
   "source": [
    "print get_profit_unmatched([0],instance)\n",
    "print get_profit_unmatched([3],instance)\n",
    "print get_incremental_profit_subroutine([0,3],instance,experiment_params)\n",
    "print get_incremental_profit([0,3],instance,experiment_params)"
   ]
  },
  {
   "cell_type": "code",
   "execution_count": null,
   "metadata": {
    "collapsed": false
   },
   "outputs": [],
   "source": [
    "print get_profit_unmatched([0],instance)\n",
    "print get_profit_unmatched([2],instance)\n",
    "print get_incremental_profit_subroutine([0,2],instance,experiment_params)\n",
    "print get_incremental_profit([0,2],instance,experiment_params)"
   ]
  },
  {
   "cell_type": "code",
   "execution_count": null,
   "metadata": {
    "collapsed": false
   },
   "outputs": [],
   "source": [
    "import pickle\n",
    "pickle.dump(instance,open('instance4.pkl','wb'))"
   ]
  },
  {
   "cell_type": "code",
   "execution_count": 9,
   "metadata": {
    "collapsed": false
   },
   "outputs": [
    {
     "data": {
      "text/plain": [
       "{8: OrderedDict([('orig', array([85, 37])),\n",
       "              ('dest', array([98, 12])),\n",
       "              ('detour_sensitivity', 261),\n",
       "              ('detour_sensitivity_normalized', 0.522),\n",
       "              ('our_cut_from_requester', {1: 0.9, 2: 0.8}),\n",
       "              ('PROVIDER_MARKET', True),\n",
       "              ('RIDE_SHARING', True)]),\n",
       " 14: OrderedDict([('orig', array([78, 91])),\n",
       "              ('dest', array([ 1, 76])),\n",
       "              ('detour_sensitivity', 436),\n",
       "              ('detour_sensitivity_normalized', 0.872),\n",
       "              ('our_cut_from_requester', {1: 0.9, 2: 0.8}),\n",
       "              ('PROVIDER_MARKET', True),\n",
       "              ('RIDE_SHARING', True)]),\n",
       " 22: OrderedDict([('orig', array([46,  9])),\n",
       "              ('dest', array([90, 40])),\n",
       "              ('detour_sensitivity', 121),\n",
       "              ('detour_sensitivity_normalized', 0.242),\n",
       "              ('our_cut_from_requester', {1: 0.9, 2: 0.8}),\n",
       "              ('PROVIDER_MARKET', True),\n",
       "              ('RIDE_SHARING', True)]),\n",
       " 24: OrderedDict([('orig', array([42, 51])),\n",
       "              ('dest', array([69, 43])),\n",
       "              ('detour_sensitivity', 316),\n",
       "              ('detour_sensitivity_normalized', 0.632),\n",
       "              ('our_cut_from_requester', {1: 0.9, 2: 0.8}),\n",
       "              ('PROVIDER_MARKET', True),\n",
       "              ('RIDE_SHARING', True)]),\n",
       " 26: OrderedDict([('orig', array([60, 38])),\n",
       "              ('dest', array([68, 28])),\n",
       "              ('detour_sensitivity', 715),\n",
       "              ('detour_sensitivity_normalized', 1.43),\n",
       "              ('our_cut_from_requester', {1: 0.9, 2: 0.8}),\n",
       "              ('PROVIDER_MARKET', True),\n",
       "              ('RIDE_SHARING', True)])}"
      ]
     },
     "execution_count": 9,
     "metadata": {},
     "output_type": "execute_result"
    }
   ],
   "source": [
    "{x:instance['all_requests'][x] for x in instance['all_requests'] if ('RIDE_SHARING' in instance['all_requests'][x]) and instance['all_requests'][x]['RIDE_SHARING']==True}\n"
   ]
  }
 ],
 "metadata": {
  "kernelspec": {
   "display_name": "Python 2",
   "language": "python",
   "name": "python2"
  },
  "language_info": {
   "codemirror_mode": {
    "name": "ipython",
    "version": 2
   },
   "file_extension": ".py",
   "mimetype": "text/x-python",
   "name": "python",
   "nbconvert_exporter": "python",
   "pygments_lexer": "ipython2",
   "version": "2.7.11"
  }
 },
 "nbformat": 4,
 "nbformat_minor": 0
}
