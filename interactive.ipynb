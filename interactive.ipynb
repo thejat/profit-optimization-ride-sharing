{
 "cells": [
  {
   "cell_type": "code",
   "execution_count": 1,
   "metadata": {
    "collapsed": false
   },
   "outputs": [
    {
     "name": "stdout",
     "output_type": "stream",
     "text": [
      "Coeff 100: Coin flip 0: Stats: Requests in provider market share w/o Gamma: 13\n",
      "Coeff 100: Coin flip 0: Stats: Requests NOT in provider market share w/o Gamma: 7\n",
      "Coeff 100: Coin flip 0: Experiment Gamma = 0. Total profit: 18610.3643011. Size of matching graph: 6. #Total ridesharers: 6\n",
      "total profit: 18610.3643011\n",
      "('unmatched_requests', [18, 1])\n",
      "('matching_graph', <networkx.classes.graph.Graph object at 0x0000000003B415F8>)\n",
      "('matched_request_pairs_with_permutations', {(5, 15): ('sj', 'si', 'di', 'dj'), (10, 19): ('si', 'sj', 'dj', 'di')})\n",
      "('non_ridesharing_requests', [0, 2, 3, 4, 6, 7, 8, 9, 11, 12, 13, 14, 16, 17])\n"
     ]
    }
   ],
   "source": [
    "from profit_maximization import *\n",
    "import pickle\n",
    "\n",
    "# random.seed(1000)  # for replicability of experiments.\n",
    "\n",
    "instance_base = generate_base_instance(20)\n",
    "coin_flip_params = get_coin_flip_params()\n",
    "instance = flip_coins_for(0,instance_base,coin_flip_params)\n",
    "get_stats(0,instance)\n",
    "experiment_params = {'DISCOUNT_SETTING':'detour_based','GAMMA':0}\n",
    "solution,total_profit = solve_instance(0,instance,experiment_params)\n",
    "print \"total profit:\",total_profit\n",
    "for k in solution:\n",
    "    print(k,solution[k])"
   ]
  },
  {
   "cell_type": "code",
   "execution_count": 2,
   "metadata": {
    "collapsed": false
   },
   "outputs": [
    {
     "name": "stderr",
     "output_type": "stream",
     "text": [
      "C:\\Users\\q4fj4lj9\\AppData\\Local\\Continuum\\Miniconda\\lib\\site-packages\\matplotlib\\collections.py:590: FutureWarning: elementwise comparison failed; returning scalar instead, but in the future will perform elementwise comparison\n",
      "  if self._edgecolors == str('face'):\n"
     ]
    }
   ],
   "source": [
    "import matplotlib.pyplot as plt\n",
    "\n",
    "data = {x:instance['all_requests'][x] for x in instance['all_requests'] if instance['all_requests'][x]['RIDE_SHARING'][experiment_params['GAMMA']]==True}\n",
    "\n",
    "N = len(data)\n",
    "labels = ['{0}'.format(i) for i in data]\n",
    "plt.subplots_adjust(bottom = 0.1)\n",
    "pd = {'orig':'green','dest':'red'}\n",
    "for loc in pd:\n",
    "    x = [data[z][loc][0] for z in data]\n",
    "    y = [data[z][loc][1] for z in data]\n",
    "\n",
    "#     plt.scatter(x, y, s=80, c=pd[loc], marker=\"o\")\n",
    "\n",
    "    plt.scatter(x, y, marker = 'o', \n",
    "        c = pd[loc], s = 1500,\n",
    "        cmap = plt.get_cmap('Spectral'))\n",
    "    for label, x, y in zip(labels, x, y):\n",
    "        plt.annotate(\n",
    "            label+','+loc, \n",
    "            xy = (x, y), xytext = (-20, 20),\n",
    "            textcoords = 'offset points', ha = 'right', va = 'bottom',\n",
    "            bbox = dict(boxstyle = 'round,pad=0.5', fc = 'yellow', alpha = 0.5),\n",
    "            arrowprops = dict(arrowstyle = '->', connectionstyle = 'arc3,rad=0'))\n",
    "\n",
    "plt.show()"
   ]
  },
  {
   "cell_type": "code",
   "execution_count": 3,
   "metadata": {
    "collapsed": false
   },
   "outputs": [
    {
     "name": "stdout",
     "output_type": "stream",
     "text": [
      "707.742891169\n",
      "391.152144312\n",
      "[2092.4554675311979, ('si', 'sj', 'dj', 'di')]\n"
     ]
    }
   ],
   "source": [
    "r1 = 10\n",
    "r2 = 19\n",
    "print get_profit_unmatched([r1],instance)\n",
    "print get_profit_unmatched([r2],instance)\n",
    "print get_incremental_profit([r1,r2],instance,experiment_params)"
   ]
  },
  {
   "cell_type": "code",
   "execution_count": null,
   "metadata": {
    "collapsed": false
   },
   "outputs": [],
   "source": []
  },
  {
   "cell_type": "code",
   "execution_count": null,
   "metadata": {
    "collapsed": false
   },
   "outputs": [],
   "source": []
  },
  {
   "cell_type": "code",
   "execution_count": null,
   "metadata": {
    "collapsed": false
   },
   "outputs": [],
   "source": []
  }
 ],
 "metadata": {
  "kernelspec": {
   "display_name": "Python 2",
   "language": "python",
   "name": "python2"
  },
  "language_info": {
   "codemirror_mode": {
    "name": "ipython",
    "version": 2
   },
   "file_extension": ".py",
   "mimetype": "text/x-python",
   "name": "python",
   "nbconvert_exporter": "python",
   "pygments_lexer": "ipython2",
   "version": "2.7.11"
  }
 },
 "nbformat": 4,
 "nbformat_minor": 0
}
