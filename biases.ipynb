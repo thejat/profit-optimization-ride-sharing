{
 "cells": [
  {
   "cell_type": "code",
   "execution_count": 27,
   "metadata": {
    "collapsed": false
   },
   "outputs": [],
   "source": [
    "%matplotlib notebook\n",
    "import numpy, pickle\n",
    "data = pickle.load(open('../../../Xharecost_MS_annex/plot_data_DELETE.pkl','rb'))\n",
    "#data = pickle.load(open('../../../Xharecost_MS_annex/plot_data.pkl','rb'))\n",
    "COEFF_ARRAY_INTERNAL_COINS = data['COEFF_ARRAY_INTERNAL_COINS']\n",
    "coin_flip_params_dict = data['coin_flip_params_dict']\n",
    "profits_given_coeffs = data['profits_given_coeffs']\n",
    "no_COIN_FLIPS = data['no_COIN_FLIPS']\n",
    "instance_base = data['instance_base']\n",
    "coin_flip_biases_dict = data['coin_flip_biases_dict']\n",
    "print \"DELETE VERSION\""
   ]
  },
  {
   "cell_type": "code",
   "execution_count": 28,
   "metadata": {
    "collapsed": false
   },
   "outputs": [
    {
     "name": "stdout",
     "output_type": "stream",
     "text": [
      "[[  0.   0.   0.   0.   0.   0.   0.   0.   0.   0.]\n",
      " [  0.   0.   0.   0.   0.   0.   0.   0.   0.   0.]\n",
      " [  1.   1.   0.   0.   1.   0.   0.   0.   1.   1.]\n",
      " [  2.   1.   3.   2.   2.   3.   1.   0.   2.   5.]\n",
      " [  3.   2.   7.   4.   5.   7.   7.   2.   6.   5.]\n",
      " [  6.   6.   9.   7.   7.  11.  12.   5.   8.   8.]\n",
      " [  9.   9.  14.   9.   9.  12.  13.   6.  10.  11.]]\n",
      "[[  0.   0.   0.   0.   0.   0.   0.   0.   0.   0.]\n",
      " [  1.   1.   0.   0.   0.   1.   0.   0.   0.   1.]\n",
      " [  3.   2.   3.   0.   0.   2.   1.   2.   2.   4.]\n",
      " [  6.   3.   9.   6.   3.   8.   6.   3.  10.   5.]\n",
      " [  8.   6.  17.  16.   8.  12.  14.  10.  15.   9.]\n",
      " [ 17.  14.  23.  24.  14.  19.  18.  19.  20.  12.]\n",
      " [ 22.  21.  30.  30.  22.  29.  20.  24.  32.  20.]]\n",
      "[[  0.   0.   0.   0.   0.   0.   0.   0.   0.   0.]\n",
      " [  0.   0.   0.   1.   0.   1.   1.   0.   0.   0.]\n",
      " [  5.   8.   5.   4.   4.   1.   4.   2.   3.   3.]\n",
      " [  9.   9.  12.   8.  10.  10.   8.   9.  10.  10.]\n",
      " [ 16.  17.  15.  14.  14.  20.  16.  16.  15.  16.]\n",
      " [ 27.  22.  22.  23.  19.  25.  26.  23.  26.  19.]\n",
      " [ 32.  37.  29.  31.  27.  29.  34.  30.  31.  32.]]\n",
      "[[  0.   0.   0.   0.   0.   0.   0.   0.   0.   0.]\n",
      " [  0.   0.   1.   0.   1.   0.   0.   0.   0.   0.]\n",
      " [  3.   2.   3.   5.   3.   4.   4.   1.   4.   2.]\n",
      " [ 10.  15.   8.  11.  12.   8.  10.  11.  12.  14.]\n",
      " [ 20.  23.  14.  19.  19.  16.  18.  24.  21.  21.]\n",
      " [ 30.  34.  28.  27.  32.  30.  30.  30.  27.  31.]\n",
      " [ 38.  42.  42.  37.  40.  36.  45.  39.  40.  44.]]\n",
      "[[  0.   0.   0.   0.   0.   0.   0.   0.   0.   0.]\n",
      " [  0.   2.   1.   3.   1.   1.   1.   0.   1.   1.]\n",
      " [ 14.  11.  12.  12.  10.  11.  11.   9.  14.   7.]\n",
      " [ 27.  28.  26.  25.  26.  31.  26.  28.  26.  22.]\n",
      " [ 43.  44.  43.  45.  39.  46.  45.  44.  42.  39.]\n",
      " [ 58.  56.  56.  55.  51.  59.  60.  56.  53.  55.]\n",
      " [ 64.  64.  63.  60.  62.  64.  67.  66.  61.  64.]]\n"
     ]
    }
   ],
   "source": [
    "for coeff_no,coeff_internal in enumerate(COEFF_ARRAY_INTERNAL_COINS):\n",
    "    print profits_given_coeffs[coeff_no]['people_count_dict']['additional_people']"
   ]
  },
  {
   "cell_type": "code",
   "execution_count": null,
   "metadata": {
    "collapsed": false
   },
   "outputs": [],
   "source": []
  },
  {
   "cell_type": "code",
   "execution_count": null,
   "metadata": {
    "collapsed": false
   },
   "outputs": [],
   "source": []
  },
  {
   "cell_type": "code",
   "execution_count": null,
   "metadata": {
    "collapsed": true
   },
   "outputs": [],
   "source": []
  },
  {
   "cell_type": "code",
   "execution_count": null,
   "metadata": {
    "collapsed": false
   },
   "outputs": [],
   "source": []
  },
  {
   "cell_type": "code",
   "execution_count": null,
   "metadata": {
    "collapsed": true
   },
   "outputs": [],
   "source": []
  },
  {
   "cell_type": "code",
   "execution_count": null,
   "metadata": {
    "collapsed": true
   },
   "outputs": [],
   "source": []
  }
 ],
 "metadata": {
  "kernelspec": {
   "display_name": "Python 2",
   "language": "python",
   "name": "python2"
  },
  "language_info": {
   "codemirror_mode": {
    "name": "ipython",
    "version": 2
   },
   "file_extension": ".py",
   "mimetype": "text/x-python",
   "name": "python",
   "nbconvert_exporter": "python",
   "pygments_lexer": "ipython2",
   "version": "2.7.12"
  }
 },
 "nbformat": 4,
 "nbformat_minor": 0
}
