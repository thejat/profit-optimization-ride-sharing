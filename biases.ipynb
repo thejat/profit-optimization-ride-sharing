{
 "cells": [
  {
   "cell_type": "code",
   "execution_count": 48,
   "metadata": {
    "collapsed": false
   },
   "outputs": [],
   "source": [
    "%matplotlib notebook\n",
    "import numpy, pickle\n",
    "#data = pickle.load(open('../../../Xharecost_MS_annex/plot_data_DELETE.pkl','rb'))\n",
    "#print \"DELETE VERSION\"\n",
    "data = pickle.load(open('../../../Xharecost_MS_annex/plot_data.pkl','rb'))\n",
    "COEFF_ARRAY_INTERNAL_COINS = data['COEFF_ARRAY_INTERNAL_COINS']\n",
    "coin_flip_params_dict = data['coin_flip_params_dict']\n",
    "profits_given_coeffs = data['profits_given_coeffs']\n",
    "no_COIN_FLIPS = data['no_COIN_FLIPS']\n",
    "instance_base = data['instance_base']\n",
    "coin_flip_biases_dict = data['coin_flip_biases_dict']\n"
   ]
  },
  {
   "cell_type": "code",
   "execution_count": 52,
   "metadata": {
    "collapsed": false
   },
   "outputs": [
    {
     "name": "stdout",
     "output_type": "stream",
     "text": [
      "[ 0.01578947  0.02894737  0.08157895  0.13421053  0.18684211  0.23947368]\n",
      "[ 0.02105263  0.03859649  0.10877193  0.17894737  0.24912281  0.31929825]\n",
      "[ 0.02631579  0.04824561  0.13596491  0.22368421  0.31140351  0.39912281]\n",
      "[ 0.03157895  0.05789474  0.16315789  0.26842105  0.37368421  0.47894737]\n",
      "[ 0.03684211  0.06754386  0.19035088  0.31315789  0.43596491  0.55877193]\n",
      "[ 0.05263158  0.09649123  0.27192982  0.44736842  0.62280702  0.79824561]\n"
     ]
    }
   ],
   "source": [
    "#Median coin flip probabilities\n",
    "for coeff_no,coeff_internal in enumerate(COEFF_ARRAY_INTERNAL_COINS):\n",
    "    #print profits_given_coeffs[coeff_no]['people_count_dict']['additional_people']\n",
    "    print numpy.median(coin_flip_biases_dict[coeff_no],axis=1)"
   ]
  },
  {
   "cell_type": "code",
   "execution_count": 58,
   "metadata": {
    "collapsed": false
   },
   "outputs": [
    {
     "name": "stdout",
     "output_type": "stream",
     "text": [
      "[[ 0.0075188   0.01378446  0.03884712  0.06390977  0.08897243  0.11403509]\n",
      " [ 0.01002506  0.01837928  0.05179616  0.08521303  0.11862991  0.15204678]\n",
      " [ 0.01253133  0.0229741   0.0647452   0.10651629  0.14828739  0.19005848]\n",
      " [ 0.01503759  0.02756892  0.07769424  0.12781955  0.17794486  0.22807018]\n",
      " [ 0.01754386  0.03216374  0.09064327  0.14912281  0.20760234  0.26608187]\n",
      " [ 0.02506266  0.0459482   0.12949039  0.21303258  0.29657477  0.38011696]]\n"
     ]
    }
   ],
   "source": [
    "#Median coin flip probabilities of initial-outside-market-requests\n",
    "output = numpy.zeros((len(COEFF_ARRAY_INTERNAL_COINS),len(instance_base['instance_params']['GAMMA_ARRAY'])))\n",
    "for coeff_no,coeff_internal in enumerate(COEFF_ARRAY_INTERNAL_COINS):\n",
    "    for idx,gamma in enumerate(instance_base['instance_params']['GAMMA_ARRAY']):\n",
    "        temp_meta = []\n",
    "        for coin_flip_no in range(no_COIN_FLIPS):\n",
    "            temp = []\n",
    "            for i in instance_base['all_requests']:\n",
    "                #CONDITIONING ON BEING OUTSIDE MARKETSHARE\n",
    "                if profits_given_coeffs[coeff_no]['instance_dict'][(idx,coin_flip_no)]['all_requests'][i]['PROVIDER_MARKET']['no_gamma']==False:\n",
    "                    temp.append(coin_flip_biases_dict[coeff_no][idx,i])\n",
    "            temp_meta.append(numpy.median(numpy.asarray(temp)))\n",
    "        output[coeff_no,idx] = numpy.median(numpy.asarray(temp_meta))\n",
    "print output"
   ]
  },
  {
   "cell_type": "code",
   "execution_count": null,
   "metadata": {
    "collapsed": false
   },
   "outputs": [],
   "source": []
  },
  {
   "cell_type": "code",
   "execution_count": null,
   "metadata": {
    "collapsed": true
   },
   "outputs": [],
   "source": []
  }
 ],
 "metadata": {
  "kernelspec": {
   "display_name": "Python 2",
   "language": "python",
   "name": "python2"
  },
  "language_info": {
   "codemirror_mode": {
    "name": "ipython",
    "version": 2
   },
   "file_extension": ".py",
   "mimetype": "text/x-python",
   "name": "python",
   "nbconvert_exporter": "python",
   "pygments_lexer": "ipython2",
   "version": "2.7.12"
  }
 },
 "nbformat": 4,
 "nbformat_minor": 0
}
