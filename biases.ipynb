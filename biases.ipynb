{
 "cells": [
  {
   "cell_type": "code",
   "execution_count": 1,
   "metadata": {
    "collapsed": false
   },
   "outputs": [
    {
     "name": "stderr",
     "output_type": "stream",
     "text": [
      "C:\\Users\\q4fj4lj9\\AppData\\Local\\Continuum\\Miniconda\\lib\\site-packages\\IPython\\kernel\\__init__.py:13: ShimWarning: The `IPython.kernel` package has been deprecated. You should import from ipykernel or jupyter_client instead.\n",
      "  \"You should import from ipykernel or jupyter_client instead.\", ShimWarning)\n"
     ]
    }
   ],
   "source": [
    "%matplotlib notebook\n",
    "import numpy, pickle\n",
    "data = pickle.load(open('../../../Xharecost_MS_annex/bias_data.pkl','rb'))"
   ]
  },
  {
   "cell_type": "code",
   "execution_count": 2,
   "metadata": {
    "collapsed": false
   },
   "outputs": [],
   "source": [
    "COEFF_ARRAY_INTERNAL_COINS = data['COEFF_ARRAY_INTERNAL_COINS']\n",
    "GAMMA_ARRAY = data['GAMMA_ARRAY']\n",
    "instances = data['instances']"
   ]
  },
  {
   "cell_type": "code",
   "execution_count": 3,
   "metadata": {
    "collapsed": false
   },
   "outputs": [],
   "source": []
  },
  {
   "cell_type": "code",
   "execution_count": 6,
   "metadata": {
    "collapsed": false
   },
   "outputs": [
    {
     "name": "stdout",
     "output_type": "stream",
     "text": [
      "50\n",
      "0.0    0.000399\n",
      "0.1    0.004386\n",
      "0.3    0.012360\n",
      "0.5    0.020335\n",
      "0.7    0.028309\n",
      "0.9    0.036284\n",
      "dtype: float64\n",
      "150\n",
      "0.0    0.001196\n",
      "0.1    0.013158\n",
      "0.3    0.037081\n",
      "0.5    0.061005\n",
      "0.7    0.084928\n",
      "0.9    0.108852\n",
      "dtype: float64\n",
      "250\n",
      "0.0    0.001994\n",
      "0.1    0.021930\n",
      "0.3    0.061802\n",
      "0.5    0.101675\n",
      "0.7    0.141547\n",
      "0.9    0.181419\n",
      "dtype: float64\n",
      "350\n",
      "0.0    0.002791\n",
      "0.1    0.030702\n",
      "0.3    0.086523\n",
      "0.5    0.142344\n",
      "0.7    0.198166\n",
      "0.9    0.253987\n",
      "dtype: float64\n",
      "1000.0\n",
      "0.0    0.007974\n",
      "0.1    0.087719\n",
      "0.3    0.247209\n",
      "0.5    0.406699\n",
      "0.7    0.566188\n",
      "0.9    0.725678\n",
      "dtype: float64\n"
     ]
    }
   ],
   "source": [
    "import pandas\n",
    "\n",
    "for coeff_no,coeff_internal in enumerate(COEFF_ARRAY_INTERNAL_COINS):\n",
    "    df = pandas.DataFrame(data=all_biases[coeff_internal].transpose(),index=range(100),columns=GAMMA_ARRAY)\n",
    "    print coeff_internal\n",
    "    print df.median()"
   ]
  },
  {
   "cell_type": "code",
   "execution_count": null,
   "metadata": {
    "collapsed": true
   },
   "outputs": [],
   "source": []
  },
  {
   "cell_type": "code",
   "execution_count": null,
   "metadata": {
    "collapsed": false
   },
   "outputs": [],
   "source": []
  },
  {
   "cell_type": "code",
   "execution_count": null,
   "metadata": {
    "collapsed": true
   },
   "outputs": [],
   "source": []
  },
  {
   "cell_type": "code",
   "execution_count": null,
   "metadata": {
    "collapsed": true
   },
   "outputs": [],
   "source": []
  }
 ],
 "metadata": {
  "kernelspec": {
   "display_name": "Python 2",
   "language": "python",
   "name": "python2"
  },
  "language_info": {
   "codemirror_mode": {
    "name": "ipython",
    "version": 2
   },
   "file_extension": ".py",
   "mimetype": "text/x-python",
   "name": "python",
   "nbconvert_exporter": "python",
   "pygments_lexer": "ipython2",
   "version": "2.7.12"
  }
 },
 "nbformat": 4,
 "nbformat_minor": 0
}
