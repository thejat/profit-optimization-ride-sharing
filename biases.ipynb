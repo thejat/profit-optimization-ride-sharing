{
 "cells": [
  {
   "cell_type": "code",
   "execution_count": 16,
   "metadata": {
    "collapsed": false
   },
   "outputs": [],
   "source": [
    "%matplotlib notebook\n",
    "import numpy, pickle\n",
    "#data = pickle.load(open('../../../Xharecost_MS_annex/plot_data_DELETE.pkl','rb'))\n",
    "#print \"DELETE VERSION\"\n",
    "data = pickle.load(open('../../../Xharecost_MS_annex/plot_data.pkl','rb'))\n",
    "COEFF_ARRAY_INTERNAL_COINS = data['COEFF_ARRAY_INTERNAL_COINS']\n",
    "coin_flip_params_dict = data['coin_flip_params_dict']\n",
    "profits_given_coeffs = data['profits_given_coeffs']\n",
    "no_COIN_FLIPS = data['no_COIN_FLIPS']\n",
    "instance_base = data['instance_base']\n",
    "coin_flip_biases_dict = data['coin_flip_biases_dict']\n"
   ]
  },
  {
   "cell_type": "code",
   "execution_count": null,
   "metadata": {
    "collapsed": false
   },
   "outputs": [],
   "source": []
  },
  {
   "cell_type": "code",
   "execution_count": 18,
   "metadata": {
    "collapsed": false
   },
   "outputs": [
    {
     "name": "stdout",
     "output_type": "stream",
     "text": [
      "[ 0.  0.  0.  2.  4.  6.  9.]\n",
      "[  0.    0.    2.    5.5  11.   17.   23. ]\n",
      "[  0.   0.   3.   9.  17.  25.  33.]\n",
      "[  0.   0.   3.  12.  21.  31.  41.]\n",
      "[  0.   1.  10.  26.  42.  56.  64.]\n"
     ]
    }
   ],
   "source": [
    "for coeff_no,coeff_internal in enumerate(COEFF_ARRAY_INTERNAL_COINS):\n",
    "    #print profits_given_coeffs[coeff_no]['people_count_dict']['additional_people']\n",
    "    print numpy.median(profits_given_coeffs[coeff_no]['people_count_dict']['additional_people'],axis=1)"
   ]
  },
  {
   "cell_type": "code",
   "execution_count": 22,
   "metadata": {
    "collapsed": false
   },
   "outputs": [
    {
     "name": "stdout",
     "output_type": "stream",
     "text": [
      "[ 0.    0.    0.    0.08  0.16  0.24  0.36]\n",
      "[ 0.    0.    0.08  0.22  0.44  0.68  0.92]\n",
      "[ 0.    0.    0.12  0.36  0.68  1.    1.32]\n",
      "[ 0.    0.    0.12  0.48  0.84  1.24  1.64]\n",
      "[ 0.    0.04  0.4   1.04  1.68  2.24  2.56]\n"
     ]
    }
   ],
   "source": [
    "#people_pct = numpy.zeros(len(COEFF_ARRAY_INTERNAL_COINS),len())\n",
    "for coeff_no,coeff_internal in enumerate(COEFF_ARRAY_INTERNAL_COINS):\n",
    "    temp = profits_given_coeffs[coeff_no]['people_count_dict']['additional_people_pct']\n",
    "    print numpy.median(temp,axis=1)"
   ]
  },
  {
   "cell_type": "code",
   "execution_count": null,
   "metadata": {
    "collapsed": false
   },
   "outputs": [],
   "source": []
  },
  {
   "cell_type": "code",
   "execution_count": 21,
   "metadata": {
    "collapsed": false
   },
   "outputs": [
    {
     "name": "stdout",
     "output_type": "stream",
     "text": [
      "[    0.         -2088.26204314 -2088.26204314 -1805.73547096 -3073.12058489\n",
      " -3740.26809343 -4467.71046484]\n",
      "[    0.         -2088.26204314 -1413.95104953   274.72347781  -297.78803237\n",
      "  -656.06879105 -1974.92936118]\n",
      "[    0.         -2088.26204314 -1167.34988655  1286.66907682  1760.58542262\n",
      "  1145.26212424     4.4411007 ]\n",
      "[    0.         -2088.26204314  -406.09707596  2671.02484879  2553.84371381\n",
      "  1835.94543132   473.70332674]\n",
      "[    0.         -2088.26204314  3078.01908488  7753.4848268   7928.466227\n",
      "  5748.62562266  4389.06893384]\n"
     ]
    }
   ],
   "source": [
    "for coeff_no,coeff_internal in enumerate(COEFF_ARRAY_INTERNAL_COINS):\n",
    "    temp1  = numpy.median(profits_given_coeffs[coeff_no]['total_profit_array'],axis=1)\n",
    "    print temp1 - temp1[0]"
   ]
  },
  {
   "cell_type": "code",
   "execution_count": null,
   "metadata": {
    "collapsed": true
   },
   "outputs": [],
   "source": [
    "temp1[0,0]"
   ]
  },
  {
   "cell_type": "code",
   "execution_count": null,
   "metadata": {
    "collapsed": false
   },
   "outputs": [],
   "source": []
  },
  {
   "cell_type": "code",
   "execution_count": null,
   "metadata": {
    "collapsed": true
   },
   "outputs": [],
   "source": []
  },
  {
   "cell_type": "code",
   "execution_count": null,
   "metadata": {
    "collapsed": true
   },
   "outputs": [],
   "source": []
  }
 ],
 "metadata": {
  "kernelspec": {
   "display_name": "Python 2",
   "language": "python",
   "name": "python2"
  },
  "language_info": {
   "codemirror_mode": {
    "name": "ipython",
    "version": 2
   },
   "file_extension": ".py",
   "mimetype": "text/x-python",
   "name": "python",
   "nbconvert_exporter": "python",
   "pygments_lexer": "ipython2",
   "version": "2.7.12"
  }
 },
 "nbformat": 4,
 "nbformat_minor": 0
}
