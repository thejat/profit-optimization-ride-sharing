{
 "cells": [
  {
   "cell_type": "code",
   "execution_count": 23,
   "metadata": {
    "collapsed": false
   },
   "outputs": [],
   "source": [
    "%matplotlib notebook\n",
    "import numpy, pickle\n",
    "#data = pickle.load(open('../../../Xharecost_MS_annex/plot_data_DELETE.pkl','rb'))\n",
    "#print \"DELETE VERSION\"\n",
    "data = pickle.load(open('../../../Xharecost_MS_annex/plot_data.pkl','rb'))\n",
    "COEFF_ARRAY_INTERNAL_COINS = data['COEFF_ARRAY_INTERNAL_COINS']\n",
    "coin_flip_params_dict = data['coin_flip_params_dict']\n",
    "profits_given_coeffs = data['profits_given_coeffs']\n",
    "no_COIN_FLIPS = data['no_COIN_FLIPS']\n",
    "instance_base = data['instance_base']\n",
    "coin_flip_biases_dict = data['coin_flip_biases_dict']\n"
   ]
  },
  {
   "cell_type": "code",
   "execution_count": null,
   "metadata": {
    "collapsed": false
   },
   "outputs": [],
   "source": []
  },
  {
   "cell_type": "code",
   "execution_count": 24,
   "metadata": {
    "collapsed": false
   },
   "outputs": [
    {
     "name": "stdout",
     "output_type": "stream",
     "text": [
      "[  0.    0.    0.    1.    3.    5.5  10. ]\n",
      "[  0.    0.    1.    3.   10.5  16.5  21. ]\n",
      "[  0.    0.    3.5   7.5  12.5  20.5  29. ]\n",
      "[  0.    0.    2.   10.5  19.   28.5  40. ]\n",
      "[  0.    0.   10.   25.   42.5  54.5  62. ]\n"
     ]
    }
   ],
   "source": [
    "for coeff_no,coeff_internal in enumerate(COEFF_ARRAY_INTERNAL_COINS):\n",
    "    #print profits_given_coeffs[coeff_no]['people_count_dict']['additional_people']\n",
    "    print numpy.median(profits_given_coeffs[coeff_no]['people_count_dict']['additional_people'],axis=1)"
   ]
  },
  {
   "cell_type": "code",
   "execution_count": 25,
   "metadata": {
    "collapsed": false
   },
   "outputs": [
    {
     "name": "stdout",
     "output_type": "stream",
     "text": [
      "[ 0.          0.          0.          0.03448276  0.10344828  0.18965517\n",
      "  0.34482759]\n",
      "[ 0.          0.          0.03448276  0.10344828  0.36206897  0.56896552\n",
      "  0.72413793]\n",
      "[ 0.          0.          0.12068966  0.25862069  0.43103448  0.70689655\n",
      "  1.        ]\n",
      "[ 0.          0.          0.06896552  0.36206897  0.65517241  0.98275862\n",
      "  1.37931034]\n",
      "[ 0.          0.          0.34482759  0.86206897  1.46551724  1.87931034\n",
      "  2.13793103]\n"
     ]
    }
   ],
   "source": [
    "#people_pct = numpy.zeros(len(COEFF_ARRAY_INTERNAL_COINS),len())\n",
    "for coeff_no,coeff_internal in enumerate(COEFF_ARRAY_INTERNAL_COINS):\n",
    "    temp = profits_given_coeffs[coeff_no]['people_count_dict']['additional_people_pct']\n",
    "    print numpy.median(temp,axis=1)"
   ]
  },
  {
   "cell_type": "code",
   "execution_count": null,
   "metadata": {
    "collapsed": false
   },
   "outputs": [],
   "source": []
  },
  {
   "cell_type": "code",
   "execution_count": 21,
   "metadata": {
    "collapsed": false
   },
   "outputs": [
    {
     "name": "stdout",
     "output_type": "stream",
     "text": [
      "[    0.         -2088.26204314 -2088.26204314 -1805.73547096 -3073.12058489\n",
      " -3740.26809343 -4467.71046484]\n",
      "[    0.         -2088.26204314 -1413.95104953   274.72347781  -297.78803237\n",
      "  -656.06879105 -1974.92936118]\n",
      "[    0.         -2088.26204314 -1167.34988655  1286.66907682  1760.58542262\n",
      "  1145.26212424     4.4411007 ]\n",
      "[    0.         -2088.26204314  -406.09707596  2671.02484879  2553.84371381\n",
      "  1835.94543132   473.70332674]\n",
      "[    0.         -2088.26204314  3078.01908488  7753.4848268   7928.466227\n",
      "  5748.62562266  4389.06893384]\n"
     ]
    }
   ],
   "source": [
    "for coeff_no,coeff_internal in enumerate(COEFF_ARRAY_INTERNAL_COINS):\n",
    "    temp1  = numpy.median(profits_given_coeffs[coeff_no]['total_profit_array'],axis=1)\n",
    "    print temp1 - temp1[0]"
   ]
  },
  {
   "cell_type": "code",
   "execution_count": null,
   "metadata": {
    "collapsed": true
   },
   "outputs": [],
   "source": [
    "temp1[0,0]"
   ]
  },
  {
   "cell_type": "code",
   "execution_count": null,
   "metadata": {
    "collapsed": false
   },
   "outputs": [],
   "source": []
  },
  {
   "cell_type": "code",
   "execution_count": null,
   "metadata": {
    "collapsed": true
   },
   "outputs": [],
   "source": []
  },
  {
   "cell_type": "code",
   "execution_count": null,
   "metadata": {
    "collapsed": true
   },
   "outputs": [],
   "source": []
  }
 ],
 "metadata": {
  "kernelspec": {
   "display_name": "Python 2",
   "language": "python",
   "name": "python2"
  },
  "language_info": {
   "codemirror_mode": {
    "name": "ipython",
    "version": 2
   },
   "file_extension": ".py",
   "mimetype": "text/x-python",
   "name": "python",
   "nbconvert_exporter": "python",
   "pygments_lexer": "ipython2",
   "version": "2.7.12"
  }
 },
 "nbformat": 4,
 "nbformat_minor": 0
}
