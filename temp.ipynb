{
 "cells": [
  {
   "cell_type": "code",
   "execution_count": null,
   "metadata": {
    "collapsed": false
   },
   "outputs": [],
   "source": [
    "%matplotlib notebook\n",
    "import numpy, pickle\n",
    "#data = pickle.load(open('../../../Xharecost_MS_annex/plot_data_DELETE.pkl','rb'))\n",
    "#print \"DELETE VERSION\"\n",
    "data = pickle.load(open('../../../Xharecost_MS_annex/plot_data.pkl','rb'))\n",
    "COEFF_ARRAY_INTERNAL_COINS = data['COEFF_ARRAY_INTERNAL_COINS']\n",
    "coin_flip_params_dict = data['coin_flip_params_dict']\n",
    "profits_given_coeffs = data['profits_given_coeffs']\n",
    "no_COIN_FLIPS = data['no_COIN_FLIPS']\n",
    "instance_base = data['instance_base']\n",
    "coin_flip_biases_dict = data['coin_flip_biases_dict']"
   ]
  },
  {
   "cell_type": "code",
   "execution_count": null,
   "metadata": {
    "collapsed": false
   },
   "outputs": [],
   "source": [
    "#Median coin flip probabilities\n",
    "for coeff_no,coeff_internal in enumerate(COEFF_ARRAY_INTERNAL_COINS):\n",
    "    #print profits_given_coeffs[coeff_no]['people_count_dict']['additional_people']\n",
    "    print numpy.median(coin_flip_biases_dict[coeff_no],axis=1)"
   ]
  },
  {
   "cell_type": "code",
   "execution_count": null,
   "metadata": {
    "collapsed": false
   },
   "outputs": [],
   "source": [
    "#Median coin flip probabilities of initial-outside-market-requests\n",
    "output = numpy.zeros((len(COEFF_ARRAY_INTERNAL_COINS),len(instance_base['instance_params']['GAMMA_ARRAY'])))\n",
    "for coeff_no,coeff_internal in enumerate(COEFF_ARRAY_INTERNAL_COINS):\n",
    "    for idx,gamma in enumerate(instance_base['instance_params']['GAMMA_ARRAY']):\n",
    "        temp_meta = []\n",
    "        for coin_flip_no in range(no_COIN_FLIPS):\n",
    "            temp = []\n",
    "            for i in instance_base['all_requests']:\n",
    "                #CONDITIONING ON BEING OUTSIDE MARKETSHARE\n",
    "                if profits_given_coeffs[coeff_no]['instance_dict'][(idx,coin_flip_no)]['all_requests'][i]['PROVIDER_MARKET']['no_gamma']==False:\n",
    "                    temp.append(coin_flip_biases_dict[coeff_no][idx,i])\n",
    "            temp_meta.append(numpy.median(numpy.asarray(temp)))\n",
    "        output[coeff_no,idx] = numpy.median(numpy.asarray(temp_meta))\n",
    "print output"
   ]
  },
  {
   "cell_type": "code",
   "execution_count": null,
   "metadata": {
    "collapsed": false
   },
   "outputs": [],
   "source": []
  },
  {
   "cell_type": "code",
   "execution_count": 27,
   "metadata": {
    "collapsed": false
   },
   "outputs": [],
   "source": []
  },
  {
   "cell_type": "code",
   "execution_count": null,
   "metadata": {
    "collapsed": true
   },
   "outputs": [],
   "source": []
  }
 ],
 "metadata": {
  "kernelspec": {
   "display_name": "Python 2",
   "language": "python",
   "name": "python2"
  },
  "language_info": {
   "codemirror_mode": {
    "name": "ipython",
    "version": 2
   },
   "file_extension": ".py",
   "mimetype": "text/x-python",
   "name": "python",
   "nbconvert_exporter": "python",
   "pygments_lexer": "ipython2",
   "version": "2.7.12"
  }
 },
 "nbformat": 4,
 "nbformat_minor": 0
}
