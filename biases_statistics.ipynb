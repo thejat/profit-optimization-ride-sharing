{
 "cells": [
  {
   "cell_type": "code",
   "execution_count": 8,
   "metadata": {
    "collapsed": false
   },
   "outputs": [],
   "source": [
    "%matplotlib notebook\n",
    "import numpy, pickle\n",
    "data = pickle.load(open('../../../Xharecost_MS_annex/bias_data.pkl','rb'))"
   ]
  },
  {
   "cell_type": "code",
   "execution_count": 9,
   "metadata": {
    "collapsed": false
   },
   "outputs": [],
   "source": [
    "COEFF_ARRAY_INTERNAL_COINS = data['COEFF_ARRAY_INTERNAL_COINS']\n",
    "instances = data['instances']\n",
    "GAMMA_ARRAY = instances[COEFF_ARRAY_INTERNAL_COINS[0]]['instance_params']['GAMMA_ARRAY']"
   ]
  },
  {
   "cell_type": "code",
   "execution_count": 10,
   "metadata": {
    "collapsed": false
   },
   "outputs": [],
   "source": [
    "all_biases = {}\n",
    "for coeff_no,coeff_internal in enumerate(COEFF_ARRAY_INTERNAL_COINS):\n",
    "    instance = instances[coeff_internal]\n",
    "    ridesharing_biases = numpy.zeros((len(GAMMA_ARRAY),len(instance['all_requests'])))\n",
    "    for gamma_no,gamma in enumerate(GAMMA_ARRAY):\n",
    "        ridesharing_biases[gamma_no] = numpy.asarray([instance['all_requests'][x]['RIDE_SHARING_BIAS'][gamma] for x in instance['all_requests']])\n",
    "        all_biases[coeff_internal] = ridesharing_biases"
   ]
  },
  {
   "cell_type": "code",
   "execution_count": 11,
   "metadata": {
    "collapsed": false
   },
   "outputs": [],
   "source": [
    "import pandas\n"
   ]
  },
  {
   "cell_type": "code",
   "execution_count": 12,
   "metadata": {
    "collapsed": false,
    "scrolled": true
   },
   "outputs": [
    {
     "name": "stdout",
     "output_type": "stream",
     "text": [
      "              0.0          0.1          0.2           0.3           0.4\n",
      "count  100.000000   100.000000   100.000000    100.000000    100.000000\n",
      "mean    28.093367   309.027040   589.960712    870.894385   1151.828058\n",
      "std     55.009240   605.101641  1155.194041   1705.286442   2255.378842\n",
      "min      3.644315    40.087464    76.530612    112.973761    149.416910\n",
      "25%      7.743104    85.174147   162.605189    240.036232    317.467274\n",
      "50%     10.822511   119.047619   227.272727    335.497835    443.722944\n",
      "75%     22.321429   245.535714   468.750000    691.964286    915.178571\n",
      "max    357.142857  3928.571429  7500.000000  11071.428571  14642.857143\n"
     ]
    }
   ],
   "source": [
    "for coeff_no,coeff_internal in enumerate(COEFF_ARRAY_INTERNAL_COINS):\n",
    "    df = pandas.DataFrame(data=all_biases[coeff_internal].transpose(),index=range(100),columns=GAMMA_ARRAY)\n",
    "    print df.describe()"
   ]
  },
  {
   "cell_type": "code",
   "execution_count": 6,
   "metadata": {
    "collapsed": true
   },
   "outputs": [],
   "source": [
    "#numpy.linalg.norm(all_biases[COEFF_ARRAY_INTERNAL_COINS[1]][0]/10-all_biases[COEFF_ARRAY_INTERNAL_COINS[0]][0])"
   ]
  },
  {
   "cell_type": "code",
   "execution_count": 7,
   "metadata": {
    "collapsed": false
   },
   "outputs": [
    {
     "data": {
      "text/plain": [
       "100000.0"
      ]
     },
     "execution_count": 7,
     "metadata": {},
     "output_type": "execute_result"
    }
   ],
   "source": [
    "1e5"
   ]
  },
  {
   "cell_type": "code",
   "execution_count": null,
   "metadata": {
    "collapsed": true
   },
   "outputs": [],
   "source": []
  },
  {
   "cell_type": "code",
   "execution_count": null,
   "metadata": {
    "collapsed": true
   },
   "outputs": [],
   "source": []
  }
 ],
 "metadata": {
  "kernelspec": {
   "display_name": "Python 2",
   "language": "python",
   "name": "python2"
  },
  "language_info": {
   "codemirror_mode": {
    "name": "ipython",
    "version": 2
   },
   "file_extension": ".py",
   "mimetype": "text/x-python",
   "name": "python",
   "nbconvert_exporter": "python",
   "pygments_lexer": "ipython2",
   "version": "2.7.11"
  }
 },
 "nbformat": 4,
 "nbformat_minor": 0
}
