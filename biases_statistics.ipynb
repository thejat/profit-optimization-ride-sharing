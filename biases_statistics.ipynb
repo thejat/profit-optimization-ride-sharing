{
 "cells": [
  {
   "cell_type": "code",
   "execution_count": 1,
   "metadata": {
    "collapsed": false
   },
   "outputs": [
    {
     "name": "stderr",
     "output_type": "stream",
     "text": [
      "C:\\Users\\q4fj4lj9\\AppData\\Local\\Continuum\\Miniconda\\lib\\site-packages\\IPython\\kernel\\__init__.py:13: ShimWarning: The `IPython.kernel` package has been deprecated. You should import from ipykernel or jupyter_client instead.\n",
      "  \"You should import from ipykernel or jupyter_client instead.\", ShimWarning)\n"
     ]
    }
   ],
   "source": [
    "%matplotlib notebook\n",
    "import numpy, pickle\n",
    "data = pickle.load(open('../../../Xharecost_MS_annex/bias_data.pkl','rb'))"
   ]
  },
  {
   "cell_type": "code",
   "execution_count": 2,
   "metadata": {
    "collapsed": false
   },
   "outputs": [],
   "source": [
    "COEFF_ARRAY_INTERNAL_COINS = data['COEFF_ARRAY_INTERNAL_COINS']\n",
    "instances = data['instances']\n",
    "GAMMA_ARRAY = instances[COEFF_ARRAY_INTERNAL_COINS[0]]['instance_params']['GAMMA_ARRAY']"
   ]
  },
  {
   "cell_type": "code",
   "execution_count": 4,
   "metadata": {
    "collapsed": false
   },
   "outputs": [],
   "source": [
    "all_biases = {}\n",
    "for coeff_no,coeff_internal in enumerate(COEFF_ARRAY_INTERNAL_COINS):\n",
    "    instance = instances[coeff_internal]\n",
    "    ridesharing_biases = numpy.zeros((len(GAMMA_ARRAY),len(instance['all_requests'])))\n",
    "    for gamma_no,gamma in enumerate(GAMMA_ARRAY):\n",
    "        ridesharing_biases[gamma_no] = numpy.asarray([instance['all_requests'][x]['RIDE_SHARING_BIAS'][gamma] for x in instance['all_requests']])\n",
    "        all_biases[coeff_internal] = ridesharing_biases"
   ]
  },
  {
   "cell_type": "code",
   "execution_count": 5,
   "metadata": {
    "collapsed": false
   },
   "outputs": [],
   "source": [
    "import pandas\n"
   ]
  },
  {
   "cell_type": "code",
   "execution_count": 9,
   "metadata": {
    "collapsed": false
   },
   "outputs": [
    {
     "name": "stdout",
     "output_type": "stream",
     "text": [
      "              0.0         0.1         0.2         0.3         0.4\n",
      "count  100.000000  100.000000  100.000000  100.000000  100.000000\n",
      "mean     0.002809    0.030903    0.058996    0.087089    0.115183\n",
      "std      0.005501    0.060510    0.115519    0.170529    0.225538\n",
      "min      0.000364    0.004009    0.007653    0.011297    0.014942\n",
      "25%      0.000774    0.008517    0.016261    0.024004    0.031747\n",
      "50%      0.001082    0.011905    0.022727    0.033550    0.044372\n",
      "75%      0.002232    0.024554    0.046875    0.069196    0.091518\n",
      "max      0.035714    0.392857    0.750000    1.107143    1.464286\n",
      "              0.0         0.1         0.2         0.3         0.4\n",
      "count  100.000000  100.000000  100.000000  100.000000  100.000000\n",
      "mean     0.028093    0.309027    0.589961    0.870894    1.151828\n",
      "std      0.055009    0.605102    1.155194    1.705286    2.255379\n",
      "min      0.003644    0.040087    0.076531    0.112974    0.149417\n",
      "25%      0.007743    0.085174    0.162605    0.240036    0.317467\n",
      "50%      0.010823    0.119048    0.227273    0.335498    0.443723\n",
      "75%      0.022321    0.245536    0.468750    0.691964    0.915179\n",
      "max      0.357143    3.928571    7.500000   11.071429   14.642857\n"
     ]
    }
   ],
   "source": [
    "for coeff_no,coeff_internal in enumerate(COEFF_ARRAY_INTERNAL_COINS):\n",
    "    df = pandas.DataFrame(data=all_biases[coeff_internal].transpose(),index=range(100),columns=GAMMA_ARRAY)\n",
    "    print df.describe()"
   ]
  },
  {
   "cell_type": "code",
   "execution_count": null,
   "metadata": {
    "collapsed": true
   },
   "outputs": [],
   "source": [
    "#numpy.linalg.norm(all_biases[COEFF_ARRAY_INTERNAL_COINS[1]][0]/10-all_biases[COEFF_ARRAY_INTERNAL_COINS[0]][0])"
   ]
  }
 ],
 "metadata": {
  "kernelspec": {
   "display_name": "Python 2",
   "language": "python",
   "name": "python2"
  },
  "language_info": {
   "codemirror_mode": {
    "name": "ipython",
    "version": 2
   },
   "file_extension": ".py",
   "mimetype": "text/x-python",
   "name": "python",
   "nbconvert_exporter": "python",
   "pygments_lexer": "ipython2",
   "version": "2.7.11"
  }
 },
 "nbformat": 4,
 "nbformat_minor": 0
}
