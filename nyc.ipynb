{
 "cells": [
  {
   "cell_type": "code",
   "execution_count": 1,
   "metadata": {
    "collapsed": false
   },
   "outputs": [],
   "source": [
    "import pandas\n",
    "import numpy\n",
    "import math\n",
    "\n",
    "def haversine(lon1, lat1, lon2, lat2):\n",
    "    \"\"\"\n",
    "    Calculate the great circle distance between two points \n",
    "    on the earth (specified in decimal degrees)\n",
    "    \"\"\"\n",
    "    # convert decimal degrees to radians \n",
    "    lon1, lat1, lon2, lat2 = map(math.radians, [lon1, lat1, lon2, lat2])\n",
    "    # haversine formula \n",
    "    dlon = lon2 - lon1 \n",
    "    dlat = lat2 - lat1 \n",
    "    a = math.sin(dlat/2)**2 + math.cos(lat1) * math.cos(lat2) * math.sin(dlon/2)**2\n",
    "    c = 2 * math.asin(math.sqrt(a)) \n",
    "    km = 6367 * c\n",
    "    return km"
   ]
  },
  {
   "cell_type": "code",
   "execution_count": 2,
   "metadata": {
    "collapsed": false
   },
   "outputs": [],
   "source": [
    "df0 = pandas.read_csv('../../../Xharecost_MS_annex/hour9.csv',usecols= ['pickup_datetime','passenger_count','pickup_longitude','pickup_latitude','dropoff_longitude','dropoff_latitude'])"
   ]
  },
  {
   "cell_type": "code",
   "execution_count": 8,
   "metadata": {
    "collapsed": false
   },
   "outputs": [],
   "source": [
    "df = df0[(abs(df0.pickup_latitude-0) > 1e-5) & \\\n",
    "         (abs(df0.pickup_longitude-0) > 1e-5) & \\\n",
    "         (abs(df0.dropoff_latitude-0) > 1e-5) & \\\n",
    "         (abs(df0.dropoff_longitude-0) > 1e-5)]"
   ]
  },
  {
   "cell_type": "code",
   "execution_count": 9,
   "metadata": {
    "collapsed": false
   },
   "outputs": [
    {
     "data": {
      "text/html": [
       "<div>\n",
       "<table border=\"1\" class=\"dataframe\">\n",
       "  <thead>\n",
       "    <tr style=\"text-align: right;\">\n",
       "      <th></th>\n",
       "      <th>passenger_count</th>\n",
       "      <th>pickup_longitude</th>\n",
       "      <th>pickup_latitude</th>\n",
       "      <th>dropoff_longitude</th>\n",
       "      <th>dropoff_latitude</th>\n",
       "    </tr>\n",
       "  </thead>\n",
       "  <tbody>\n",
       "    <tr>\n",
       "      <th>count</th>\n",
       "      <td>12651.000000</td>\n",
       "      <td>12651.000000</td>\n",
       "      <td>12651.000000</td>\n",
       "      <td>12651.000000</td>\n",
       "      <td>12651.000000</td>\n",
       "    </tr>\n",
       "    <tr>\n",
       "      <th>mean</th>\n",
       "      <td>1.100229</td>\n",
       "      <td>-73.977511</td>\n",
       "      <td>40.754260</td>\n",
       "      <td>-73.978671</td>\n",
       "      <td>40.752809</td>\n",
       "    </tr>\n",
       "    <tr>\n",
       "      <th>std</th>\n",
       "      <td>0.368836</td>\n",
       "      <td>0.026140</td>\n",
       "      <td>0.023441</td>\n",
       "      <td>0.027182</td>\n",
       "      <td>0.023173</td>\n",
       "    </tr>\n",
       "    <tr>\n",
       "      <th>min</th>\n",
       "      <td>1.000000</td>\n",
       "      <td>-74.017921</td>\n",
       "      <td>40.616276</td>\n",
       "      <td>-74.295082</td>\n",
       "      <td>40.585709</td>\n",
       "    </tr>\n",
       "    <tr>\n",
       "      <th>25%</th>\n",
       "      <td>1.000000</td>\n",
       "      <td>-73.992001</td>\n",
       "      <td>40.740887</td>\n",
       "      <td>-73.991848</td>\n",
       "      <td>40.741989</td>\n",
       "    </tr>\n",
       "    <tr>\n",
       "      <th>50%</th>\n",
       "      <td>1.000000</td>\n",
       "      <td>-73.981102</td>\n",
       "      <td>40.755630</td>\n",
       "      <td>-73.980965</td>\n",
       "      <td>40.754936</td>\n",
       "    </tr>\n",
       "    <tr>\n",
       "      <th>75%</th>\n",
       "      <td>1.000000</td>\n",
       "      <td>-73.966015</td>\n",
       "      <td>40.770000</td>\n",
       "      <td>-73.971169</td>\n",
       "      <td>40.764204</td>\n",
       "    </tr>\n",
       "    <tr>\n",
       "      <th>max</th>\n",
       "      <td>4.000000</td>\n",
       "      <td>-73.697060</td>\n",
       "      <td>40.865898</td>\n",
       "      <td>-73.697060</td>\n",
       "      <td>40.964172</td>\n",
       "    </tr>\n",
       "  </tbody>\n",
       "</table>\n",
       "</div>"
      ],
      "text/plain": [
       "       passenger_count  pickup_longitude  pickup_latitude  dropoff_longitude  \\\n",
       "count     12651.000000      12651.000000     12651.000000       12651.000000   \n",
       "mean          1.100229        -73.977511        40.754260         -73.978671   \n",
       "std           0.368836          0.026140         0.023441           0.027182   \n",
       "min           1.000000        -74.017921        40.616276         -74.295082   \n",
       "25%           1.000000        -73.992001        40.740887         -73.991848   \n",
       "50%           1.000000        -73.981102        40.755630         -73.980965   \n",
       "75%           1.000000        -73.966015        40.770000         -73.971169   \n",
       "max           4.000000        -73.697060        40.865898         -73.697060   \n",
       "\n",
       "       dropoff_latitude  \n",
       "count      12651.000000  \n",
       "mean          40.752809  \n",
       "std            0.023173  \n",
       "min           40.585709  \n",
       "25%           40.741989  \n",
       "50%           40.754936  \n",
       "75%           40.764204  \n",
       "max           40.964172  "
      ]
     },
     "execution_count": 9,
     "metadata": {},
     "output_type": "execute_result"
    }
   ],
   "source": [
    "df.describe()"
   ]
  },
  {
   "cell_type": "code",
   "execution_count": 2,
   "metadata": {
    "collapsed": false
   },
   "outputs": [],
   "source": [
    "a = numpy.zeros((2,2))"
   ]
  },
  {
   "cell_type": "code",
   "execution_count": 5,
   "metadata": {
    "collapsed": false
   },
   "outputs": [
    {
     "name": "stdout",
     "output_type": "stream",
     "text": [
      "[[ 1.  1.]\n",
      " [ 0.  0.]]\n"
     ]
    }
   ],
   "source": [
    "a[0] = numpy.asarray([1,1])\n",
    "print a"
   ]
  },
  {
   "cell_type": "code",
   "execution_count": null,
   "metadata": {
    "collapsed": true
   },
   "outputs": [],
   "source": []
  }
 ],
 "metadata": {
  "kernelspec": {
   "display_name": "Python 2",
   "language": "python",
   "name": "python2"
  },
  "language_info": {
   "codemirror_mode": {
    "name": "ipython",
    "version": 2
   },
   "file_extension": ".py",
   "mimetype": "text/x-python",
   "name": "python",
   "nbconvert_exporter": "python",
   "pygments_lexer": "ipython2",
   "version": "2.7.11"
  }
 },
 "nbformat": 4,
 "nbformat_minor": 0
}
