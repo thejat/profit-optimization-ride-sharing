{
 "cells": [
  {
   "cell_type": "code",
   "execution_count": null,
   "metadata": {
    "collapsed": false
   },
   "outputs": [],
   "source": [
    "import pandas, numpy, math, pickle, urllib2, json\n",
    "\n",
    "def get_driving_distance_osm(str_lat_comma_long1,str_lat_comma_long2):\n",
    "    query_args = { 'fromPlace':str_lat_comma_long1, 'toPlace':str_lat_comma_long2,'mode':'CAR' }\n",
    "    encoded_args = urllib.urlencode(query_args)\n",
    "    #print 'Encoded:', encoded_args\n",
    "    url = 'http://13.218.151.99:8080/otp/routers/default/plan?' + encoded_args\n",
    "    temp = json.load(urllib.urlopen(url))\n",
    "    return temp['plan']['itineraries'][0]['legs'][0]['distance']\n",
    "\n",
    "def haversine(lon1, lat1, lon2, lat2):\n",
    "    \"\"\"\n",
    "    Calculate the great circle distance between two points \n",
    "    on the earth (specified in decimal degrees)\n",
    "    \"\"\"\n",
    "    # convert decimal degrees to radians \n",
    "    lon1, lat1, lon2, lat2 = map(math.radians, [lon1, lat1, lon2, lat2])\n",
    "    # haversine formula \n",
    "    dlon = lon2 - lon1 \n",
    "    dlat = lat2 - lat1 \n",
    "    a = math.sin(dlat/2)**2 + math.cos(lat1) * math.cos(lat2) * math.sin(dlon/2)**2\n",
    "    c = 2 * math.asin(math.sqrt(a)) \n",
    "    km = 6367 * c\n",
    "    return km\n",
    "\n",
    "#Distances in Simulated data\n",
    "import numpy, pickle\n",
    "from profit_maximization import euclidean\n",
    "data = pickle.load(open('../../../Xharecost_MS_annex/bias_data.pkl','rb'))\n",
    "instance = data['instances'][100]\n",
    "all_requests = instance['all_requests']\n",
    "distances = numpy.zeros(len(all_requests))\n",
    "for i in all_requests:\n",
    "    distances[i] = euclidean(all_requests[i]['orig'],all_requests[i]['dest'])\n",
    "distDF = pandas.DataFrame(data=distances,index=range(len(all_requests)),columns=['dist'])\n",
    "distDF.describe()"
   ]
  },
  {
   "cell_type": "code",
   "execution_count": null,
   "metadata": {
    "collapsed": false
   },
   "outputs": [],
   "source": [
    "df0 = pandas.read_csv('../../../Xharecost_MS_annex/hour9.csv',usecols= ['pickup_datetime','passenger_count','pickup_longitude','pickup_latitude','dropoff_longitude','dropoff_latitude'])\n",
    "\n",
    "df = df0[(abs(df0.pickup_latitude-0) > 1e-5) & \\\n",
    "         (abs(df0.pickup_longitude-0) > 1e-5) & \\\n",
    "         (abs(df0.dropoff_latitude-0) > 1e-5) & \\\n",
    "         (abs(df0.dropoff_longitude-0) > 1e-5)]\n",
    "print df.describe()"
   ]
  },
  {
   "cell_type": "code",
   "execution_count": null,
   "metadata": {
    "collapsed": false
   },
   "outputs": [],
   "source": [
    "str_lat_comma_long1 = '40.616276,-74.017921'\n",
    "str_lat_comma_long2 = '40.865898,-73.697060'\n",
    "\n",
    "get_driving_distance_osm(str_lat_comma_long1,str_lat_comma_long2)\n",
    "\n"
   ]
  },
  {
   "cell_type": "code",
   "execution_count": null,
   "metadata": {
    "collapsed": false
   },
   "outputs": [],
   "source": [
    "df['pickup_datetime'] = pandas.to_datetime(df['pickup_datetime'])"
   ]
  },
  {
   "cell_type": "code",
   "execution_count": null,
   "metadata": {
    "collapsed": false
   },
   "outputs": [],
   "source": [
    "for i in range(60):\n",
    "    df1 = df[(df['pickup_datetime'].dt.minute >= i) & (df['pickup_datetime'].dt.minute < i+1)]\n",
    "    print 'minute: {0} count: {1}'.format(i,len(df1))"
   ]
  },
  {
   "cell_type": "code",
   "execution_count": null,
   "metadata": {
    "collapsed": false
   },
   "outputs": [],
   "source": [
    "len(df1)"
   ]
  },
  {
   "cell_type": "code",
   "execution_count": null,
   "metadata": {
    "collapsed": true
   },
   "outputs": [],
   "source": []
  },
  {
   "cell_type": "code",
   "execution_count": null,
   "metadata": {
    "collapsed": false
   },
   "outputs": [],
   "source": []
  },
  {
   "cell_type": "code",
   "execution_count": null,
   "metadata": {
    "collapsed": false
   },
   "outputs": [],
   "source": []
  },
  {
   "cell_type": "code",
   "execution_count": 2,
   "metadata": {
    "collapsed": false
   },
   "outputs": [
    {
     "data": {
      "text/plain": [
       "[0, 0.1, 0.2, 0.3, 0.4]"
      ]
     },
     "execution_count": 2,
     "metadata": {},
     "output_type": "execute_result"
    }
   ],
   "source": [
    "from profit_maximization import *\n",
    "get_instance_params()['GAMMA_ARRAY']"
   ]
  },
  {
   "cell_type": "code",
   "execution_count": null,
   "metadata": {
    "collapsed": false
   },
   "outputs": [],
   "source": []
  },
  {
   "cell_type": "code",
   "execution_count": null,
   "metadata": {
    "collapsed": false
   },
   "outputs": [],
   "source": []
  },
  {
   "cell_type": "code",
   "execution_count": null,
   "metadata": {
    "collapsed": true
   },
   "outputs": [],
   "source": []
  }
 ],
 "metadata": {
  "kernelspec": {
   "display_name": "Python 2",
   "language": "python",
   "name": "python2"
  },
  "language_info": {
   "codemirror_mode": {
    "name": "ipython",
    "version": 2
   },
   "file_extension": ".py",
   "mimetype": "text/x-python",
   "name": "python",
   "nbconvert_exporter": "python",
   "pygments_lexer": "ipython2",
   "version": "2.7.11"
  }
 },
 "nbformat": 4,
 "nbformat_minor": 0
}
