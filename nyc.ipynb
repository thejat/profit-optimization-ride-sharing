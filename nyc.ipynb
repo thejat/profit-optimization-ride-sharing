{
 "cells": [
  {
   "cell_type": "code",
   "execution_count": 1,
   "metadata": {
    "collapsed": false
   },
   "outputs": [],
   "source": [
    "import pandas, numpy, math, pickle, urllib, json\n",
    "\n",
    "def get_driving_distance_osm(str_lat_comma_long1,str_lat_comma_long2):\n",
    "    query_args = { 'fromPlace':str_lat_comma_long1, 'toPlace':str_lat_comma_long2,'mode':'CAR' }\n",
    "    encoded_args = urllib.urlencode(query_args)\n",
    "    #print 'Encoded:', encoded_args\n",
    "    url = 'http://13.218.151.99:8080/otp/routers/default/plan?' + encoded_args\n",
    "    temp = json.load(urllib.urlopen(url))\n",
    "    return temp['plan']['itineraries'][0]['legs'][0]['distance']\n",
    "\n",
    "def haversine(lon1, lat1, lon2, lat2):\n",
    "    \"\"\"\n",
    "    Calculate the great circle distance between two points \n",
    "    on the earth (specified in decimal degrees)\n",
    "    \"\"\"\n",
    "    # convert decimal degrees to radians \n",
    "    lon1, lat1, lon2, lat2 = map(math.radians, [lon1, lat1, lon2, lat2])\n",
    "    # haversine formula \n",
    "    dlon = lon2 - lon1 \n",
    "    dlat = lat2 - lat1 \n",
    "    a = math.sin(dlat/2)**2 + math.cos(lat1) * math.cos(lat2) * math.sin(dlon/2)**2\n",
    "    c = 2 * math.asin(math.sqrt(a)) \n",
    "    km = 6367 * c\n",
    "    return km\n",
    "\n",
    "#Distances in Simulated data\n",
    "import numpy, pickle\n",
    "from profit_maximization import euclidean\n",
    "flag_sim_dist_stat = False\n",
    "if flag_sim_dist_stat:\n",
    "    data = pickle.load(open('../../../Xharecost_MS_annex/bias_data.pkl','rb'))\n",
    "    instance = data['instances'][100]\n",
    "    all_requests = instance['all_requests']\n",
    "    distances = numpy.zeros(len(all_requests))\n",
    "    for i in all_requests:\n",
    "        distances[i] = euclidean(all_requests[i]['orig'],all_requests[i]['dest'])\n",
    "    distDF = pandas.DataFrame(data=distances,index=range(len(all_requests)),columns=['dist'])\n",
    "    distDF.describe()"
   ]
  },
  {
   "cell_type": "code",
   "execution_count": 2,
   "metadata": {
    "collapsed": false
   },
   "outputs": [],
   "source": [
    "df0 = pandas.read_csv('../../../Xharecost_MS_annex/hour9.csv',usecols= ['pickup_datetime','passenger_count','pickup_longitude','pickup_latitude','dropoff_longitude','dropoff_latitude'])\n",
    "\n",
    "df = df0[(abs(df0.pickup_latitude-0) > 1e-5) & \\\n",
    "         (abs(df0.pickup_longitude-0) > 1e-5) & \\\n",
    "         (abs(df0.dropoff_latitude-0) > 1e-5) & \\\n",
    "         (abs(df0.dropoff_longitude-0) > 1e-5)]\n",
    "#print df.describe()"
   ]
  },
  {
   "cell_type": "code",
   "execution_count": 5,
   "metadata": {
    "collapsed": false
   },
   "outputs": [],
   "source": [
    "flag_debug = False\n",
    "if flag_debug:\n",
    "    str_lat_comma_long1 = '40.616276,-74.017921'\n",
    "    str_lat_comma_long2 = '40.865898,-73.697060'\n",
    "    print get_driving_distance_osm(str_lat_comma_long1,str_lat_comma_long2)"
   ]
  },
  {
   "cell_type": "code",
   "execution_count": null,
   "metadata": {
    "collapsed": false
   },
   "outputs": [],
   "source": []
  },
  {
   "cell_type": "code",
   "execution_count": 10,
   "metadata": {
    "collapsed": false
   },
   "outputs": [
    {
     "name": "stdout",
     "output_type": "stream",
     "text": [
      "minute: 0 count: 213\n",
      "minute: 1 count: 254\n",
      "minute: 2 count: 230\n",
      "minute: 3 count: 231\n",
      "minute: 4 count: 192\n",
      "minute: 5 count: 227\n",
      "minute: 6 count: 224\n",
      "minute: 7 count: 211\n",
      "minute: 8 count: 204\n",
      "minute: 9 count: 227\n",
      "minute: 10 count: 243\n",
      "minute: 11 count: 225\n",
      "minute: 12 count: 249\n",
      "minute: 13 count: 197\n",
      "minute: 14 count: 207\n",
      "minute: 15 count: 218\n",
      "minute: 16 count: 198\n",
      "minute: 17 count: 223\n",
      "minute: 18 count: 229\n",
      "minute: 19 count: 223\n",
      "minute: 20 count: 224\n",
      "minute: 21 count: 214\n",
      "minute: 22 count: 209\n",
      "minute: 23 count: 201\n",
      "minute: 24 count: 233\n",
      "minute: 25 count: 211\n",
      "minute: 26 count: 226\n",
      "minute: 27 count: 201\n",
      "minute: 28 count: 208\n",
      "minute: 29 count: 196\n",
      "minute: 30 count: 219\n",
      "minute: 31 count: 188\n",
      "minute: 32 count: 200\n",
      "minute: 33 count: 215\n",
      "minute: 34 count: 211\n",
      "minute: 35 count: 210\n",
      "minute: 36 count: 187\n",
      "minute: 37 count: 208\n",
      "minute: 38 count: 212\n",
      "minute: 39 count: 184\n",
      "minute: 40 count: 223\n",
      "minute: 41 count: 179\n",
      "minute: 42 count: 207\n",
      "minute: 43 count: 213\n",
      "minute: 44 count: 216\n",
      "minute: 45 count: 221\n",
      "minute: 46 count: 207\n",
      "minute: 47 count: 213\n",
      "minute: 48 count: 196\n",
      "minute: 49 count: 199\n",
      "minute: 50 count: 222\n",
      "minute: 51 count: 208\n",
      "minute: 52 count: 202\n",
      "minute: 53 count: 200\n",
      "minute: 54 count: 201\n",
      "minute: 55 count: 198\n",
      "minute: 56 count: 197\n",
      "minute: 57 count: 200\n",
      "minute: 58 count: 166\n",
      "minute: 59 count: 201\n"
     ]
    }
   ],
   "source": [
    "df['pickup_datetime'] = pandas.to_datetime(df['pickup_datetime'])\n",
    "for i in range(60):\n",
    "    df1 = df[(df['pickup_datetime'].dt.minute >= i) & (df['pickup_datetime'].dt.minute < i+1)]\n",
    "    print 'minute: {0} count: {1}'.format(i,len(df1))"
   ]
  },
  {
   "cell_type": "code",
   "execution_count": null,
   "metadata": {
    "collapsed": false
   },
   "outputs": [],
   "source": [
    "len(df1)"
   ]
  },
  {
   "cell_type": "code",
   "execution_count": null,
   "metadata": {
    "collapsed": true
   },
   "outputs": [],
   "source": []
  },
  {
   "cell_type": "code",
   "execution_count": null,
   "metadata": {
    "collapsed": false
   },
   "outputs": [],
   "source": []
  },
  {
   "cell_type": "code",
   "execution_count": null,
   "metadata": {
    "collapsed": false
   },
   "outputs": [],
   "source": []
  },
  {
   "cell_type": "code",
   "execution_count": 2,
   "metadata": {
    "collapsed": false
   },
   "outputs": [
    {
     "data": {
      "text/plain": [
       "[0, 0.1, 0.2, 0.3, 0.4]"
      ]
     },
     "execution_count": 2,
     "metadata": {},
     "output_type": "execute_result"
    }
   ],
   "source": [
    "from profit_maximization import *\n",
    "get_instance_params()['GAMMA_ARRAY']"
   ]
  },
  {
   "cell_type": "code",
   "execution_count": null,
   "metadata": {
    "collapsed": false
   },
   "outputs": [],
   "source": []
  },
  {
   "cell_type": "code",
   "execution_count": null,
   "metadata": {
    "collapsed": false
   },
   "outputs": [],
   "source": []
  },
  {
   "cell_type": "code",
   "execution_count": null,
   "metadata": {
    "collapsed": true
   },
   "outputs": [],
   "source": []
  }
 ],
 "metadata": {
  "kernelspec": {
   "display_name": "Python 2",
   "language": "python",
   "name": "python2"
  },
  "language_info": {
   "codemirror_mode": {
    "name": "ipython",
    "version": 2
   },
   "file_extension": ".py",
   "mimetype": "text/x-python",
   "name": "python",
   "nbconvert_exporter": "python",
   "pygments_lexer": "ipython2",
   "version": "2.7.12"
  }
 },
 "nbformat": 4,
 "nbformat_minor": 0
}
