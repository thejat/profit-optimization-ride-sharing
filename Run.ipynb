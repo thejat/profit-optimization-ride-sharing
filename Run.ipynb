{
 "cells": [
  {
   "cell_type": "code",
   "execution_count": 2,
   "metadata": {
    "collapsed": false
   },
   "outputs": [],
   "source": [
    "from profit_maximization import *\n",
    "\n",
    "# random.seed(1000)  # for replicability of experiments.\n",
    "\n",
    "instance = generate_instance()"
   ]
  },
  {
   "cell_type": "code",
   "execution_count": 9,
   "metadata": {
    "collapsed": false
   },
   "outputs": [
    {
     "data": {
      "text/plain": [
       "OrderedDict([('orig', array([60, 10])),\n",
       "             ('dest', array([ 9, 71])),\n",
       "             ('detour_sensitivity', 16),\n",
       "             ('detour_sensitivity_normalized', 0.032),\n",
       "             ('our_cut_from_requester', {1: 0.9, 2: 0.8}),\n",
       "             ('PROVIDER_MARKET',\n",
       "              {0.0: True,\n",
       "               0.5: True,\n",
       "               1.0: True,\n",
       "               1.5: True,\n",
       "               2.0: True,\n",
       "               'no_gamma': True}),\n",
       "             ('RIDE_SHARING',\n",
       "              {0.0: True,\n",
       "               0.5: True,\n",
       "               1.0: True,\n",
       "               1.5: True,\n",
       "               2.0: True,\n",
       "               'no_gamma': True})])"
      ]
     },
     "execution_count": 9,
     "metadata": {},
     "output_type": "execute_result"
    }
   ],
   "source": [
    "instance['all_requests'][5]"
   ]
  },
  {
   "cell_type": "code",
   "execution_count": null,
   "metadata": {
    "collapsed": false
   },
   "outputs": [],
   "source": []
  },
  {
   "cell_type": "code",
   "execution_count": null,
   "metadata": {
    "collapsed": true
   },
   "outputs": [],
   "source": []
  }
 ],
 "metadata": {
  "kernelspec": {
   "display_name": "Python 2",
   "language": "python",
   "name": "python2"
  },
  "language_info": {
   "codemirror_mode": {
    "name": "ipython",
    "version": 2
   },
   "file_extension": ".py",
   "mimetype": "text/x-python",
   "name": "python",
   "nbconvert_exporter": "python",
   "pygments_lexer": "ipython2",
   "version": "2.7.11"
  }
 },
 "nbformat": 4,
 "nbformat_minor": 0
}
